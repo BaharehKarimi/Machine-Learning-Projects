{
 "cells": [
  {
   "cell_type": "code",
   "execution_count": 1,
   "id": "dad84ded",
   "metadata": {},
   "outputs": [],
   "source": [
    "#Import libraries\n",
    "import numpy as np\n",
    "import random"
   ]
  },
  {
   "cell_type": "code",
   "execution_count": 2,
   "id": "04c96397",
   "metadata": {},
   "outputs": [],
   "source": [
    "class Field:\n",
    "    def __init__(self) -> None:\n",
    "        \"\"\"\n",
    "        Initialize field and set a random start state\n",
    "        \"\"\"\n",
    "        self.states = [\n",
    "            [-1, 0, 0, 0, 0, 0, 0, 0, 0, 0, 0, 0],\n",
    "            [-1, 0, 0, 0, 0, 0, 0, 0, 1, 0, 0, 0],\n",
    "            [0, 0, 0, 0, 0, 0, 0, 0, 0, 0, 0, 0]\n",
    "            ]\n",
    "        self.state = (random.randrange(0, len(self.states)), random.randrange(0, len(self.states[0])))\n",
    "    \n",
    "    def done(self):\n",
    "        \"\"\"\n",
    "        Check if it isn't in a neutral state\n",
    "        \"\"\"\n",
    "        if self.states[self.state[0]][self.state[1]] != 0:\n",
    "            return True\n",
    "        else:\n",
    "            return False\n",
    "    \n",
    "    def get_possible_actions(self):\n",
    "        \"\"\"\n",
    "        Return possible actions in state\n",
    "\n",
    "        Action:\n",
    "               0 => left\n",
    "               1 => right\n",
    "               2 => up\n",
    "               3 => down\n",
    "        \"\"\"    \n",
    "        actions = [0, 1, 2, 3]\n",
    "        if self.state[0] == 0:\n",
    "            actions.remove(2)\n",
    "        if self.state[0] == len(self.states) -1:\n",
    "            actions.remove(3)\n",
    "        if self.state[1] == 0:\n",
    "            actions.remove(0)\n",
    "        if self.state[1] == len(self.states[0]) -1:\n",
    "            actions.remove(1)\n",
    "        return actions\n",
    "\n",
    "    def update_next_state(self, action):\n",
    "        \"\"\" \n",
    "        Update state according to action -> Return state and reward\n",
    "        \"\"\"\n",
    "        x, y = self.state\n",
    "\n",
    "        if action == 0:\n",
    "            if y == 0:\n",
    "                return self.state, -10\n",
    "            self.state = x, y - 1\n",
    "        if action == 1:\n",
    "            if y == len(self.states) -1:\n",
    "                return self.state, -10\n",
    "            self.state = x, y + 1\n",
    "        if action == 2:\n",
    "            if x == 0:\n",
    "                return self.state, -10\n",
    "            self.state = x - 1, y\n",
    "        if action == 3:\n",
    "            if self.state == len(self.states) -1:\n",
    "                return self.state, -10\n",
    "            self.state = x + 1, y        \n",
    "        reward = self.states[self.state[0]][self.state[1]]\n",
    "        return self.state, reward"
   ]
  },
  {
   "cell_type": "code",
   "execution_count": 3,
   "id": "24a0ca19",
   "metadata": {},
   "outputs": [
    {
     "data": {
      "text/plain": [
       "((1, 2), False, [0, 1, 2, 3])"
      ]
     },
     "execution_count": 3,
     "metadata": {},
     "output_type": "execute_result"
    }
   ],
   "source": [
    "field = Field()\n",
    "field.state, field.done(), field.get_possible_actions()"
   ]
  },
  {
   "cell_type": "code",
   "execution_count": 4,
   "id": "f2fa616f",
   "metadata": {},
   "outputs": [
    {
     "data": {
      "text/plain": [
       "((0, 2), False, [0, 1, 3])"
      ]
     },
     "execution_count": 4,
     "metadata": {},
     "output_type": "execute_result"
    }
   ],
   "source": [
    " field.update_next_state(2)\n",
    " field.state, field.done(), field.get_possible_actions()"
   ]
  },
  {
   "cell_type": "code",
   "execution_count": 5,
   "id": "fe1068f0",
   "metadata": {},
   "outputs": [],
   "source": [
    "#Train the model\n",
    "field = Field()\n",
    "q_table = np.zeros((len(field.states), len(field.states[0]), 4))\n",
    "\n",
    "alpha = .5\n",
    "epsilon = .5\n",
    "gamma = .5\n",
    "\n",
    "for _ in range(10000):\n",
    "    field = Field()\n",
    "    while not field.done():\n",
    "        actions = field.get_possible_actions()\n",
    "        if random.uniform(0, 1) < epsilon:\n",
    "            action = random.choice(actions)\n",
    "        else:\n",
    "            action = np.argmax(q_table[field.state])\n",
    "        \n",
    "        cur_x, cur_y = field.state\n",
    "        (next_x, next_y), reward = field.update_next_state(action)\n",
    "        q_table[cur_x, cur_y, action] = (1 - alpha)*q_table[cur_x, cur_y, action] + alpha*(reward + gamma*np.max(q_table[next_x, next_y]))"
   ]
  },
  {
   "cell_type": "code",
   "execution_count": 6,
   "id": "def3b371",
   "metadata": {},
   "outputs": [
    {
     "data": {
      "text/plain": [
       "array([[[  0.      ,   0.      ,   0.      ,   0.      ],\n",
       "        [ -1.      ,   0.      ,   0.      ,   0.      ],\n",
       "        [  0.      , -10.      ,   0.      ,   0.      ],\n",
       "        [  0.      ,   0.03125 ,   0.      ,   0.03125 ],\n",
       "        [  0.015625,   0.0625  ,   0.      ,   0.0625  ],\n",
       "        [  0.03125 ,   0.125   ,   0.      ,   0.125   ],\n",
       "        [  0.0625  ,   0.25    ,   0.      ,   0.25    ],\n",
       "        [  0.125   ,   0.5     ,   0.      ,   0.5     ],\n",
       "        [  0.25    ,   0.25    ,   0.      ,   1.      ],\n",
       "        [  0.5     ,   0.125   ,   0.      ,   0.5     ],\n",
       "        [  0.25    ,   0.0625  ,   0.      ,   0.25    ],\n",
       "        [  0.125   ,   0.      ,   0.      ,   0.125   ]],\n",
       "\n",
       "       [[  0.      ,   0.      ,   0.      ,   0.      ],\n",
       "        [ -1.      ,   0.      ,   0.      ,   0.      ],\n",
       "        [  0.      , -10.      ,   0.      ,   0.      ],\n",
       "        [  0.      ,   0.0625  ,   0.015625,   0.015625],\n",
       "        [  0.03125 ,   0.125   ,   0.03125 ,   0.03125 ],\n",
       "        [  0.0625  ,   0.25    ,   0.0625  ,   0.0625  ],\n",
       "        [  0.125   ,   0.5     ,   0.125   ,   0.125   ],\n",
       "        [  0.25    ,   1.      ,   0.25    ,   0.25    ],\n",
       "        [  0.      ,   0.      ,   0.      ,   0.      ],\n",
       "        [  1.      ,   0.25    ,   0.25    ,   0.25    ],\n",
       "        [  0.5     ,   0.125   ,   0.125   ,   0.125   ],\n",
       "        [  0.25    ,   0.      ,   0.0625  ,   0.0625  ]],\n",
       "\n",
       "       [[ -5.      ,   0.      ,  -1.      ,   0.      ],\n",
       "        [  0.      ,   0.      ,   0.      ,   0.      ],\n",
       "        [  0.      , -10.      ,   0.      ,   0.      ],\n",
       "        [  0.      ,   0.03125 ,   0.03125 ,   0.      ],\n",
       "        [  0.015625,   0.0625  ,   0.0625  ,   0.      ],\n",
       "        [  0.03125 ,   0.125   ,   0.125   ,   0.      ],\n",
       "        [  0.0625  ,   0.25    ,   0.25    ,   0.      ],\n",
       "        [  0.125   ,   0.5     ,   0.5     ,   0.      ],\n",
       "        [  0.25    ,   0.25    ,   1.      ,   0.      ],\n",
       "        [  0.5     ,   0.125   ,   0.5     ,   0.      ],\n",
       "        [  0.25    ,   0.0625  ,   0.25    ,   0.      ],\n",
       "        [  0.125   ,   0.      ,   0.125   ,   0.      ]]])"
      ]
     },
     "execution_count": 6,
     "metadata": {},
     "output_type": "execute_result"
    }
   ],
   "source": [
    "q_table"
   ]
  },
  {
   "cell_type": "code",
   "execution_count": null,
   "id": "bb90f716",
   "metadata": {},
   "outputs": [],
   "source": []
  }
 ],
 "metadata": {
  "interpreter": {
   "hash": "746800f96ece29ab8b5df47a779cb8f76655f7cf39bc7615a93fb17b55f50443"
  },
  "kernelspec": {
   "display_name": "Python 3 (ipykernel)",
   "language": "python",
   "name": "python3"
  },
  "language_info": {
   "codemirror_mode": {
    "name": "ipython",
    "version": 3
   },
   "file_extension": ".py",
   "mimetype": "text/x-python",
   "name": "python",
   "nbconvert_exporter": "python",
   "pygments_lexer": "ipython3",
   "version": "3.9.7"
  }
 },
 "nbformat": 4,
 "nbformat_minor": 5
}
